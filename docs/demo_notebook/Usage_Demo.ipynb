{
 "cells": [
  {
   "cell_type": "markdown",
   "metadata": {},
   "source": [
    "# Imports"
   ]
  },
  {
   "cell_type": "code",
   "execution_count": 1,
   "metadata": {
    "ExecuteTime": {
     "end_time": "2017-11-16T21:40:17.630831Z",
     "start_time": "2017-11-16T21:40:17.616736Z"
    }
   },
   "outputs": [],
   "source": [
    "%load_ext autoreload\n",
    "%autoreload 2"
   ]
  },
  {
   "cell_type": "code",
   "execution_count": 2,
   "metadata": {
    "ExecuteTime": {
     "end_time": "2017-11-16T21:40:18.034774Z",
     "start_time": "2017-11-16T21:40:17.632365Z"
    }
   },
   "outputs": [],
   "source": [
    "import pandas as pd\n",
    "import numpy as np\n",
    "\n",
    "from table_enforcer import Enforcer, Column\n",
    "import table_enforcer.errors as e\n",
    "\n",
    "from table_enforcer import validate as v\n",
    "from table_enforcer import recode as r"
   ]
  },
  {
   "cell_type": "markdown",
   "metadata": {},
   "source": [
    "# Load or create your Table"
   ]
  },
  {
   "cell_type": "code",
   "execution_count": 3,
   "metadata": {
    "ExecuteTime": {
     "end_time": "2017-11-16T21:40:18.118746Z",
     "start_time": "2017-11-16T21:40:18.036969Z"
    }
   },
   "outputs": [
    {
     "data": {
      "text/html": [
       "<div>\n",
       "<style scoped>\n",
       "    .dataframe tbody tr th:only-of-type {\n",
       "        vertical-align: middle;\n",
       "    }\n",
       "\n",
       "    .dataframe tbody tr th {\n",
       "        vertical-align: top;\n",
       "    }\n",
       "\n",
       "    .dataframe thead th {\n",
       "        text-align: right;\n",
       "    }\n",
       "</style>\n",
       "<table border=\"1\" class=\"dataframe\">\n",
       "  <thead>\n",
       "    <tr style=\"text-align: right;\">\n",
       "      <th></th>\n",
       "      <th>col1</th>\n",
       "      <th>col2</th>\n",
       "      <th>col3</th>\n",
       "      <th>col4</th>\n",
       "    </tr>\n",
       "  </thead>\n",
       "  <tbody>\n",
       "    <tr>\n",
       "      <th>0</th>\n",
       "      <td>7</td>\n",
       "      <td>3</td>\n",
       "      <td>10</td>\n",
       "      <td>male</td>\n",
       "    </tr>\n",
       "    <tr>\n",
       "      <th>1</th>\n",
       "      <td>2</td>\n",
       "      <td>4</td>\n",
       "      <td>6</td>\n",
       "      <td>m</td>\n",
       "    </tr>\n",
       "    <tr>\n",
       "      <th>2</th>\n",
       "      <td>6</td>\n",
       "      <td>6</td>\n",
       "      <td>2</td>\n",
       "      <td>F</td>\n",
       "    </tr>\n",
       "  </tbody>\n",
       "</table>\n",
       "</div>"
      ],
      "text/plain": [
       "   col1  col2  col3  col4\n",
       "0     7     3    10  male\n",
       "1     2     4     6     m\n",
       "2     6     6     2     F"
      ]
     },
     "execution_count": 3,
     "metadata": {},
     "output_type": "execute_result"
    }
   ],
   "source": [
    "df = pd.read_csv(\"demo_table.csv\")\n",
    "df"
   ]
  },
  {
   "cell_type": "markdown",
   "metadata": {},
   "source": [
    "# Validator Functions"
   ]
  },
  {
   "cell_type": "markdown",
   "metadata": {},
   "source": [
    "## Built-in Validators\n",
    "\n",
    "Some validator functions come built-in (See the `table_enforcer/validate/funcs.py` module code for current list)"
   ]
  },
  {
   "cell_type": "code",
   "execution_count": 4,
   "metadata": {
    "ExecuteTime": {
     "end_time": "2017-11-16T21:40:18.646384Z",
     "start_time": "2017-11-16T21:40:18.504487Z"
    }
   },
   "outputs": [
    {
     "name": "stdout",
     "output_type": "stream",
     "text": [
      "\"\"\"Provide builtin validator functions for common use cases.\r\n",
      "\r\n",
      "In general, validators take a single `pandas.Series` object as\r\n",
      "input and return a `pandas.Series` of the same shape and indexes\r\n",
      "containing `True` or `False` relative to which items passed the\r\n",
      "validation logic.\r\n",
      "\"\"\"\r\n",
      "import pandas as pd\r\n",
      "# import numpy as np\r\n",
      "\r\n",
      "# from table_enforcer import errors as e\r\n",
      "# from table_enforcer.validate import decorators as dec\r\n",
      "\r\n",
      "\r\n",
      "def not_null(series: pd.Series) -> pd.Series:\r\n",
      "    \"\"\"Return Series with True/False bools based on which items pass.\"\"\"\r\n",
      "    return pd.notnull(series)\r\n",
      "\r\n",
      "\r\n",
      "def positive(series: pd.Series) -> pd.Series:\r\n",
      "    \"\"\"Test that the data items are positive.\"\"\"\r\n",
      "    return series > 0\r\n",
      "\r\n",
      "\r\n",
      "def negative(series: pd.Series) -> pd.Series:\r\n",
      "    \"\"\"Test that the data items are negative.\"\"\"\r\n",
      "    return series < 0\r\n",
      "\r\n",
      "\r\n",
      "def unique(series: pd.Series) -> pd.Series:\r\n",
      "    \"\"\"Test that the data items do not repeat.\"\"\"\r\n",
      "    return ~series.duplicated(keep=False)\r\n",
      "\r\n",
      "\r\n",
      "def upper(series):\r\n",
      "    \"\"\"Test that the data items are all uppercase.\"\"\"\r\n",
      "    return series.str.isupper()\r\n",
      "\r\n",
      "\r\n",
      "def lower(series):\r\n",
      "    \"\"\"Test that the data items are all lowercase.\"\"\"\r\n",
      "    return series.str.islower()\r\n"
     ]
    }
   ],
   "source": [
    "! cat $v.funcs.__file__"
   ]
  },
  {
   "cell_type": "markdown",
   "metadata": {},
   "source": [
    "## Validator Call Signatures\n",
    "\n",
    "In general, validators take a single `pandas.Series` object as input and return a `pandas.Series` of the same shape and indexes containing `True` or `False` relative to which items passed the validation logic. \n",
    "\n",
    "This changes a little if you are using a decorator like `@maxmin` (_See section on Decorating Validators_)\n",
    "\n"
   ]
  },
  {
   "cell_type": "markdown",
   "metadata": {},
   "source": [
    "## Writing Custom Validators"
   ]
  },
  {
   "cell_type": "code",
   "execution_count": 5,
   "metadata": {
    "ExecuteTime": {
     "end_time": "2017-11-16T21:40:19.103929Z",
     "start_time": "2017-11-16T21:40:19.080637Z"
    }
   },
   "outputs": [],
   "source": [
    "def gte2(series):\n",
    "    return series >= 2\n",
    "\n",
    "def lte10(series):\n",
    "    return series <= 10\n",
    "\n",
    "def length_is_one(series):\n",
    "    return series.str.len() == 1\n",
    "\n",
    "def valid_sex(series):\n",
    "    sex = set(['M', 'F'])\n",
    "    return series.isin(sex)"
   ]
  },
  {
   "cell_type": "markdown",
   "metadata": {},
   "source": [
    "## Decorating Validators\n",
    "You can define decorators that extend the call signature of validators to accomadate more complex things like ranges.\n",
    "\n",
    "Here we can define a single validator that accomplishes the same thing as the combination of the first two validators that we defined above:"
   ]
  },
  {
   "cell_type": "code",
   "execution_count": 6,
   "metadata": {
    "ExecuteTime": {
     "end_time": "2017-11-16T21:40:19.380718Z",
     "start_time": "2017-11-16T21:40:19.365308Z"
    }
   },
   "outputs": [],
   "source": [
    "@v.decorators.minmax(low=2, high=10)\n",
    "def bt_2_and_10(series):\n",
    "    \"\"\"Test that the data items fall within range: 2 <= x <= 10.\"\"\"\n",
    "    return series"
   ]
  },
  {
   "cell_type": "markdown",
   "metadata": {},
   "source": [
    "__Note:__ pay attention to the fact that here we return the __original__ series object. _We didn't do ANYTHING to it._ The testing gets done in the `@v.decorators.minmax` decorator function. This allows our validators to always expect a single argument at run-time and always return a single argument.  This is _very_ important.\n",
    "\n",
    "### Writing Custom Validator Decorators\n",
    "\n",
    "This is a bit beyond this demo's scope but here is the `table_enforcer/validate/decorators.py` code so that you can get an idea oh how to do it if you are brave."
   ]
  },
  {
   "cell_type": "code",
   "execution_count": 7,
   "metadata": {
    "ExecuteTime": {
     "end_time": "2017-11-16T21:40:19.800096Z",
     "start_time": "2017-11-16T21:40:19.660238Z"
    }
   },
   "outputs": [
    {
     "name": "stdout",
     "output_type": "stream",
     "text": [
      "\"\"\"Provide decoration functions to augment the behavior of validator functions.\"\"\"\r\n",
      "import functools\r\n",
      "\r\n",
      "import pandas as pd\r\n",
      "import numpy as np\r\n",
      "\r\n",
      "\r\n",
      "def minmax(low, high):\r\n",
      "    \"\"\"Test that the data items fall within range: low <= x <= high.\"\"\"\r\n",
      "    def decorator(function):\r\n",
      "        \"\"\"Decorate a function with args.\"\"\"\r\n",
      "        @functools.wraps(function)\r\n",
      "        def wrapper(*args, **kwargs):\r\n",
      "            \"\"\"Wrap the function.\"\"\"\r\n",
      "            series = function(*args, **kwargs)\r\n",
      "            lo_pass = low <= series\r\n",
      "            hi_pass = series <= high\r\n",
      "\r\n",
      "            return lo_pass & hi_pass\r\n",
      "\r\n",
      "        return wrapper\r\n",
      "\r\n",
      "    return decorator\r\n",
      "\r\n",
      "\r\n",
      "def choice(choices):\r\n",
      "    \"\"\"Test that the data items are members of the set `choices`.\"\"\"\r\n",
      "    def decorator(function):\r\n",
      "        \"\"\"Decorate a function with args.\"\"\"\r\n",
      "        @functools.wraps(function)\r\n",
      "        def wrapper(*args, **kwargs):\r\n",
      "            \"\"\"Wrap the function.\"\"\"\r\n",
      "            series = function(*args, **kwargs)\r\n",
      "            return series.isin(set(choices))\r\n",
      "\r\n",
      "        return wrapper\r\n",
      "\r\n",
      "    return decorator\r\n",
      "\r\n",
      "\r\n",
      "def bounded_length(low, high=None):\r\n",
      "    \"\"\"Test that the length of the data items fall within range: low <= x <= high.\r\n",
      "\r\n",
      "    If high is None, treat as exact length.\r\n",
      "    \"\"\"\r\n",
      "    def decorator(function):\r\n",
      "        \"\"\"Decorate a function with args.\"\"\"\r\n",
      "        @functools.wraps(function)\r\n",
      "        def wrapper(*args, **kwargs):\r\n",
      "            \"\"\"Wrap the function.\"\"\"\r\n",
      "            series = function(*args, **kwargs)\r\n",
      "            if high is None:\r\n",
      "                return series.apply(lambda x: len(x) == low)\r\n",
      "            else:\r\n",
      "                lo_pass = series.apply(lambda x: low <= len(x))\r\n",
      "                hi_pass = series.apply(lambda x: len(x) <= high)\r\n",
      "\r\n",
      "                return lo_pass & hi_pass\r\n",
      "\r\n",
      "        return wrapper\r\n",
      "\r\n",
      "    return decorator\r\n",
      "\r\n"
     ]
    }
   ],
   "source": [
    "!cat $v.decorators.__file__"
   ]
  },
  {
   "cell_type": "markdown",
   "metadata": {},
   "source": [
    "# Defining Columns\n",
    "\n",
    "Now that we have a few validator functions, its time to put together a representation of our table and use that object to help us get us a final data table that is in a form we like. We will start with `col1`."
   ]
  },
  {
   "cell_type": "code",
   "execution_count": 8,
   "metadata": {
    "ExecuteTime": {
     "end_time": "2017-11-16T21:40:19.984398Z",
     "start_time": "2017-11-16T21:40:19.956103Z"
    }
   },
   "outputs": [
    {
     "data": {
      "text/html": [
       "<div>\n",
       "<style scoped>\n",
       "    .dataframe tbody tr th:only-of-type {\n",
       "        vertical-align: middle;\n",
       "    }\n",
       "\n",
       "    .dataframe tbody tr th {\n",
       "        vertical-align: top;\n",
       "    }\n",
       "\n",
       "    .dataframe thead th {\n",
       "        text-align: right;\n",
       "    }\n",
       "</style>\n",
       "<table border=\"1\" class=\"dataframe\">\n",
       "  <thead>\n",
       "    <tr style=\"text-align: right;\">\n",
       "      <th></th>\n",
       "      <th>col1</th>\n",
       "      <th>col2</th>\n",
       "      <th>col3</th>\n",
       "      <th>col4</th>\n",
       "    </tr>\n",
       "  </thead>\n",
       "  <tbody>\n",
       "    <tr>\n",
       "      <th>0</th>\n",
       "      <td>7</td>\n",
       "      <td>3</td>\n",
       "      <td>10</td>\n",
       "      <td>male</td>\n",
       "    </tr>\n",
       "    <tr>\n",
       "      <th>1</th>\n",
       "      <td>2</td>\n",
       "      <td>4</td>\n",
       "      <td>6</td>\n",
       "      <td>m</td>\n",
       "    </tr>\n",
       "    <tr>\n",
       "      <th>2</th>\n",
       "      <td>6</td>\n",
       "      <td>6</td>\n",
       "      <td>2</td>\n",
       "      <td>F</td>\n",
       "    </tr>\n",
       "  </tbody>\n",
       "</table>\n",
       "</div>"
      ],
      "text/plain": [
       "   col1  col2  col3  col4\n",
       "0     7     3    10  male\n",
       "1     2     4     6     m\n",
       "2     6     6     2     F"
      ]
     },
     "execution_count": 8,
     "metadata": {},
     "output_type": "execute_result"
    }
   ],
   "source": [
    "df"
   ]
  },
  {
   "cell_type": "markdown",
   "metadata": {},
   "source": [
    "Lets say we don't care about `col2`; we want all the others though.\n",
    "\n",
    "We create a column object for each column we want that contains the name of the column we want to represent. We set the options to describe our ideal format. We set the values for each option for each column including a a list of validator functions that should all pass for all items in each column if we got our way.\n",
    "\n",
    "For now, we will ignore the `recoders` argument. What we end up with is the three column objects below."
   ]
  },
  {
   "cell_type": "code",
   "execution_count": 9,
   "metadata": {
    "ExecuteTime": {
     "end_time": "2017-11-16T21:40:20.308567Z",
     "start_time": "2017-11-16T21:40:20.284520Z"
    }
   },
   "outputs": [],
   "source": [
    "col1 = Column(name='col1',\n",
    "             dtype=np.int,\n",
    "             unique=False,\n",
    "             validators=[v.funcs.not_null, v.funcs.positive, bt_2_and_10],\n",
    "             recoders=None)\n",
    "\n",
    "col3 = Column(name='col3',\n",
    "             dtype=np.int,\n",
    "             unique=True,\n",
    "             validators=[v.funcs.not_null, v.funcs.positive, bt_2_and_10],\n",
    "             recoders=None)\n",
    "\n",
    "col4 = Column(name='col4',\n",
    "             dtype=str,\n",
    "             unique=False,\n",
    "             validators=[v.funcs.upper, length_is_one, valid_sex],\n",
    "             recoders=None)"
   ]
  },
  {
   "cell_type": "markdown",
   "metadata": {},
   "source": [
    "## Validating a Column object\n",
    "For each column object we store the validator functions in a `pd.Series`.\n",
    "\n",
    "Here is the value for `col4`"
   ]
  },
  {
   "cell_type": "code",
   "execution_count": 10,
   "metadata": {
    "ExecuteTime": {
     "end_time": "2017-11-16T21:40:21.261055Z",
     "start_time": "2017-11-16T21:40:21.245092Z"
    }
   },
   "outputs": [
    {
     "data": {
      "text/plain": [
       "{'length_is_one': <function __main__.length_is_one>,\n",
       " 'upper': <function table_enforcer.validate.funcs.upper>,\n",
       " 'valid_sex': <function __main__.valid_sex>}"
      ]
     },
     "execution_count": 10,
     "metadata": {},
     "output_type": "execute_result"
    }
   ],
   "source": [
    "col4.validators"
   ]
  },
  {
   "cell_type": "markdown",
   "metadata": {},
   "source": [
    "We validate a column by passing our original dataframe to the column object. This means that the name argument we pass to our column object __must match the target column header EXACTLY__. The tests get run independently and after the column data is passed through each test, we get a dataframe of results.  We can see right away which data items fail which tests.\n",
    "\n",
    "This helps us plan our recoding efforts later. We can immediatly see what sorts of operations need to be run to convert those `False` tests to `True`."
   ]
  },
  {
   "cell_type": "code",
   "execution_count": 11,
   "metadata": {
    "ExecuteTime": {
     "end_time": "2017-11-16T21:40:21.596177Z",
     "start_time": "2017-11-16T21:40:21.568180Z"
    },
    "scrolled": false
   },
   "outputs": [
    {
     "data": {
      "text/html": [
       "<div>\n",
       "<style scoped>\n",
       "    .dataframe tbody tr th:only-of-type {\n",
       "        vertical-align: middle;\n",
       "    }\n",
       "\n",
       "    .dataframe tbody tr th {\n",
       "        vertical-align: top;\n",
       "    }\n",
       "\n",
       "    .dataframe thead th {\n",
       "        text-align: right;\n",
       "    }\n",
       "</style>\n",
       "<table border=\"1\" class=\"dataframe\">\n",
       "  <thead>\n",
       "    <tr style=\"text-align: right;\">\n",
       "      <th></th>\n",
       "      <th>length_is_one</th>\n",
       "      <th>upper</th>\n",
       "      <th>valid_sex</th>\n",
       "      <th>dtype</th>\n",
       "    </tr>\n",
       "  </thead>\n",
       "  <tbody>\n",
       "    <tr>\n",
       "      <th>0</th>\n",
       "      <td>False</td>\n",
       "      <td>False</td>\n",
       "      <td>False</td>\n",
       "      <td>True</td>\n",
       "    </tr>\n",
       "    <tr>\n",
       "      <th>1</th>\n",
       "      <td>True</td>\n",
       "      <td>False</td>\n",
       "      <td>False</td>\n",
       "      <td>True</td>\n",
       "    </tr>\n",
       "    <tr>\n",
       "      <th>2</th>\n",
       "      <td>True</td>\n",
       "      <td>True</td>\n",
       "      <td>True</td>\n",
       "      <td>True</td>\n",
       "    </tr>\n",
       "  </tbody>\n",
       "</table>\n",
       "</div>"
      ],
      "text/plain": [
       "   length_is_one  upper  valid_sex  dtype\n",
       "0          False  False      False   True\n",
       "1           True  False      False   True\n",
       "2           True   True       True   True"
      ]
     },
     "execution_count": 11,
     "metadata": {},
     "output_type": "execute_result"
    }
   ],
   "source": [
    "col4.validate(df)"
   ]
  },
  {
   "cell_type": "markdown",
   "metadata": {},
   "source": [
    "Wait a minute... Where did that validation test called `dtype` come from?\n",
    "\n",
    "Turns out we get that one for free since we defined that this column needs to be of `dtype` `np.int`. We get a similar `unique` validation check inserted if we set that option to `True`. "
   ]
  },
  {
   "cell_type": "markdown",
   "metadata": {},
   "source": [
    "# Recoder Functions\n",
    "\n",
    "Recoder functions have a very similar structure to validator functions. But their purpose is to coerce the raw data into a more useful form. For example `Col4` is obviously meant to represent 'male'/'female' logic. But we don't want to have to interpret all possible ways to represent that logic every time we want to use that column. So we write a recoder function to do convert all items to either \"M\" or \"F\" so we only need to understand two choices from now on."
   ]
  },
  {
   "cell_type": "code",
   "execution_count": 12,
   "metadata": {
    "ExecuteTime": {
     "end_time": "2017-11-16T21:40:22.188148Z",
     "start_time": "2017-11-16T21:40:22.163095Z"
    }
   },
   "outputs": [
    {
     "data": {
      "text/html": [
       "<div>\n",
       "<style scoped>\n",
       "    .dataframe tbody tr th:only-of-type {\n",
       "        vertical-align: middle;\n",
       "    }\n",
       "\n",
       "    .dataframe tbody tr th {\n",
       "        vertical-align: top;\n",
       "    }\n",
       "\n",
       "    .dataframe thead th {\n",
       "        text-align: right;\n",
       "    }\n",
       "</style>\n",
       "<table border=\"1\" class=\"dataframe\">\n",
       "  <thead>\n",
       "    <tr style=\"text-align: right;\">\n",
       "      <th></th>\n",
       "      <th>col1</th>\n",
       "      <th>col2</th>\n",
       "      <th>col3</th>\n",
       "      <th>col4</th>\n",
       "    </tr>\n",
       "  </thead>\n",
       "  <tbody>\n",
       "    <tr>\n",
       "      <th>0</th>\n",
       "      <td>7</td>\n",
       "      <td>3</td>\n",
       "      <td>10</td>\n",
       "      <td>male</td>\n",
       "    </tr>\n",
       "    <tr>\n",
       "      <th>1</th>\n",
       "      <td>2</td>\n",
       "      <td>4</td>\n",
       "      <td>6</td>\n",
       "      <td>m</td>\n",
       "    </tr>\n",
       "    <tr>\n",
       "      <th>2</th>\n",
       "      <td>6</td>\n",
       "      <td>6</td>\n",
       "      <td>2</td>\n",
       "      <td>F</td>\n",
       "    </tr>\n",
       "  </tbody>\n",
       "</table>\n",
       "</div>"
      ],
      "text/plain": [
       "   col1  col2  col3  col4\n",
       "0     7     3    10  male\n",
       "1     2     4     6     m\n",
       "2     6     6     2     F"
      ]
     },
     "execution_count": 12,
     "metadata": {},
     "output_type": "execute_result"
    }
   ],
   "source": [
    "df"
   ]
  },
  {
   "cell_type": "markdown",
   "metadata": {},
   "source": [
    "## Built-in Recoders\n",
    "\n",
    "Some recoder functions come built-in (See the `table_enforcer/recode/funcs.py` module code for current list)"
   ]
  },
  {
   "cell_type": "code",
   "execution_count": 13,
   "metadata": {
    "ExecuteTime": {
     "end_time": "2017-11-16T21:40:22.599696Z",
     "start_time": "2017-11-16T21:40:22.472969Z"
    }
   },
   "outputs": [
    {
     "name": "stdout",
     "output_type": "stream",
     "text": [
      "\"\"\"Provide builtin recoder functions for common use cases.\r\n",
      "\r\n",
      "Like validators, recoders take a single `pandas.Series` object as input and return\r\n",
      "a `pandas.Series` of the same shape and indexes as the original series object. However,\r\n",
      "instead of returning a series of `True`/`False` values, it performs some operation on\r\n",
      "the data that gets the column data closer to being how you want it to look during\r\n",
      "analysis operations.\r\n",
      "\"\"\"\r\n",
      "\r\n",
      "\r\n",
      "def upper(series):\r\n",
      "    \"\"\"Transform all text to uppercase.\"\"\"\r\n",
      "    return series.str.upper()\r\n",
      "\r\n",
      "\r\n",
      "def lower(series):\r\n",
      "    \"\"\"Transform all text to lowercase.\"\"\"\r\n",
      "    return series.str.lower()"
     ]
    }
   ],
   "source": [
    "!cat $r.funcs.__file__"
   ]
  },
  {
   "cell_type": "markdown",
   "metadata": {},
   "source": [
    "## Recoder Call Signatures\n",
    "\n",
    "Like validators, recoders take a single `pandas.Series` object as input and return a `pandas.Series` of the same shape and indexes as the original series object. However, instead of returning a series of `True`/`False` values, it performs some operation on the data that gets the column data closer to being how you want it to look during analysis operations.\n",
    "\n",
    "## Writing Custom Recoders\n",
    "\n",
    "### Recoders are Meant to be Composable\n",
    "\n",
    "You are able to build a single, monolithic recoder that transforms a column all the way into what you want in a single step. But it may be better to write recoders that perform only a single step on the way to getting a particular column into shape. \n",
    "\n",
    "This results in reusable functions that are \"composable\". Meaning that for the NEXT column, you may not even need to write a new function. All you may need to do is list a sequence of recoders that already exist. \n",
    "\n",
    "This is because, recoders are applied in a pipeline model.  The output from the first is supplied to the second etc.\n",
    "\n",
    "Now, lets write our recoders to transform `col4`."
   ]
  },
  {
   "cell_type": "code",
   "execution_count": 14,
   "metadata": {
    "ExecuteTime": {
     "end_time": "2017-11-16T21:40:22.802569Z",
     "start_time": "2017-11-16T21:40:22.778460Z"
    }
   },
   "outputs": [],
   "source": [
    "def standardize_sex(series):\n",
    "    \"\"\"Return a series where common representations of 'male'/'female' are standardized.\n",
    "    \n",
    "    Things like ['M', 'MALE', 'M', 'BOY', ...] are converted to `M`.\n",
    "    Representations of female are treated similarly. \n",
    "    \"\"\"\n",
    "    mapper = {\"M\": \"M\",\n",
    "              \"MALE\": \"M\",\n",
    "              \"BOY\": \"M\",\n",
    "              \"F\": \"F\",\n",
    "              \"FEMALE\": \"F\",\n",
    "              \"GIRL\": \"F\",\n",
    "             }\n",
    "    if series.str.islower().any():\n",
    "        raise ValueError(\"standardize_sex expects input series to contain only UPPERCASE letters.\")\n",
    "    else:\n",
    "        return series.apply(lambda x: mapper[x])"
   ]
  },
  {
   "cell_type": "markdown",
   "metadata": {},
   "source": [
    "Since we plan to call the built-in recoder `upper` first, we only need to support uppercase text here. This is kind of a silly requirement in practice but it demonstrates how you can write composable recoders to fail if expectations are not met."
   ]
  },
  {
   "cell_type": "markdown",
   "metadata": {},
   "source": [
    "## Next Iteration: Validate Recoded Table"
   ]
  },
  {
   "cell_type": "markdown",
   "metadata": {},
   "source": [
    "Lets revisit our original definition of `col4` and add the recoders we have now."
   ]
  },
  {
   "cell_type": "code",
   "execution_count": 15,
   "metadata": {
    "ExecuteTime": {
     "end_time": "2017-11-16T21:40:23.653830Z",
     "start_time": "2017-11-16T21:40:23.638655Z"
    }
   },
   "outputs": [],
   "source": [
    "col4 = Column(name='col4',\n",
    "             dtype=str,\n",
    "             unique=False,\n",
    "             validators=[v.funcs.upper, length_is_one, valid_sex],\n",
    "             recoders=[r.funcs.upper, standardize_sex])"
   ]
  },
  {
   "cell_type": "markdown",
   "metadata": {},
   "source": [
    "Now what do we have after we recode this column?"
   ]
  },
  {
   "cell_type": "code",
   "execution_count": 16,
   "metadata": {
    "ExecuteTime": {
     "end_time": "2017-11-16T21:40:23.950072Z",
     "start_time": "2017-11-16T21:40:23.932047Z"
    }
   },
   "outputs": [
    {
     "data": {
      "text/plain": [
       "0    M\n",
       "1    M\n",
       "2    F\n",
       "Name: col4, dtype: object"
      ]
     },
     "execution_count": 16,
     "metadata": {},
     "output_type": "execute_result"
    }
   ],
   "source": [
    "col4.recode(df)"
   ]
  },
  {
   "cell_type": "markdown",
   "metadata": {},
   "source": [
    "That looks pretty good. But let's not rely on our eyes and instead rely on the validation tests we defined. \n",
    "\n",
    "Now we try `col4.validate` again but this time tell it to perform recoding prior to validation and see what happens."
   ]
  },
  {
   "cell_type": "code",
   "execution_count": 17,
   "metadata": {
    "ExecuteTime": {
     "end_time": "2017-11-16T21:40:24.263474Z",
     "start_time": "2017-11-16T21:40:24.233901Z"
    }
   },
   "outputs": [
    {
     "data": {
      "text/html": [
       "<div>\n",
       "<style scoped>\n",
       "    .dataframe tbody tr th:only-of-type {\n",
       "        vertical-align: middle;\n",
       "    }\n",
       "\n",
       "    .dataframe tbody tr th {\n",
       "        vertical-align: top;\n",
       "    }\n",
       "\n",
       "    .dataframe thead th {\n",
       "        text-align: right;\n",
       "    }\n",
       "</style>\n",
       "<table border=\"1\" class=\"dataframe\">\n",
       "  <thead>\n",
       "    <tr style=\"text-align: right;\">\n",
       "      <th></th>\n",
       "      <th>length_is_one</th>\n",
       "      <th>upper</th>\n",
       "      <th>valid_sex</th>\n",
       "      <th>dtype</th>\n",
       "    </tr>\n",
       "  </thead>\n",
       "  <tbody>\n",
       "    <tr>\n",
       "      <th>0</th>\n",
       "      <td>True</td>\n",
       "      <td>True</td>\n",
       "      <td>True</td>\n",
       "      <td>True</td>\n",
       "    </tr>\n",
       "    <tr>\n",
       "      <th>1</th>\n",
       "      <td>True</td>\n",
       "      <td>True</td>\n",
       "      <td>True</td>\n",
       "      <td>True</td>\n",
       "    </tr>\n",
       "    <tr>\n",
       "      <th>2</th>\n",
       "      <td>True</td>\n",
       "      <td>True</td>\n",
       "      <td>True</td>\n",
       "      <td>True</td>\n",
       "    </tr>\n",
       "  </tbody>\n",
       "</table>\n",
       "</div>"
      ],
      "text/plain": [
       "   length_is_one  upper  valid_sex  dtype\n",
       "0           True   True       True   True\n",
       "1           True   True       True   True\n",
       "2           True   True       True   True"
      ]
     },
     "execution_count": 17,
     "metadata": {},
     "output_type": "execute_result"
    }
   ],
   "source": [
    "col4.validate(df, recode=True)"
   ]
  },
  {
   "cell_type": "markdown",
   "metadata": {},
   "source": [
    "We are good! We can now move on to our other columns and repeat the process until all the validation check pass on all of our columns. Then we can compose our `Enforcer` object and we will be nearing the end of our initial sanity check / recoding phase for this table. "
   ]
  },
  {
   "cell_type": "markdown",
   "metadata": {
    "ExecuteTime": {
     "end_time": "2017-11-14T22:36:25.371934Z",
     "start_time": "2017-11-14T22:36:25.347337Z"
    }
   },
   "source": [
    "# Defining Table Enforcers"
   ]
  },
  {
   "cell_type": "code",
   "execution_count": 26,
   "metadata": {
    "ExecuteTime": {
     "end_time": "2017-11-16T21:41:17.705570Z",
     "start_time": "2017-11-16T21:41:17.685080Z"
    }
   },
   "outputs": [],
   "source": [
    "demo = Enforcer(columns=[col1,col3,col4])"
   ]
  },
  {
   "cell_type": "code",
   "execution_count": 27,
   "metadata": {
    "ExecuteTime": {
     "end_time": "2017-11-16T21:41:22.040440Z",
     "start_time": "2017-11-16T21:41:22.000393Z"
    }
   },
   "outputs": [
    {
     "data": {
      "text/plain": [
       "False"
      ]
     },
     "execution_count": 27,
     "metadata": {},
     "output_type": "execute_result"
    }
   ],
   "source": [
    "demo.validate(df)"
   ]
  },
  {
   "cell_type": "code",
   "execution_count": 28,
   "metadata": {
    "ExecuteTime": {
     "end_time": "2017-11-16T21:41:25.129582Z",
     "start_time": "2017-11-16T21:41:25.096966Z"
    }
   },
   "outputs": [
    {
     "data": {
      "text/html": [
       "<div>\n",
       "<style scoped>\n",
       "    .dataframe tbody tr th:only-of-type {\n",
       "        vertical-align: middle;\n",
       "    }\n",
       "\n",
       "    .dataframe tbody tr th {\n",
       "        vertical-align: top;\n",
       "    }\n",
       "\n",
       "    .dataframe thead th {\n",
       "        text-align: right;\n",
       "    }\n",
       "</style>\n",
       "<table border=\"1\" class=\"dataframe\">\n",
       "  <thead>\n",
       "    <tr style=\"text-align: right;\">\n",
       "      <th></th>\n",
       "      <th>col1</th>\n",
       "      <th>col3</th>\n",
       "      <th>col4</th>\n",
       "    </tr>\n",
       "  </thead>\n",
       "  <tbody>\n",
       "    <tr>\n",
       "      <th>0</th>\n",
       "      <td>7</td>\n",
       "      <td>10</td>\n",
       "      <td>M</td>\n",
       "    </tr>\n",
       "    <tr>\n",
       "      <th>1</th>\n",
       "      <td>2</td>\n",
       "      <td>6</td>\n",
       "      <td>M</td>\n",
       "    </tr>\n",
       "    <tr>\n",
       "      <th>2</th>\n",
       "      <td>6</td>\n",
       "      <td>2</td>\n",
       "      <td>F</td>\n",
       "    </tr>\n",
       "  </tbody>\n",
       "</table>\n",
       "</div>"
      ],
      "text/plain": [
       "   col1  col3 col4\n",
       "0     7    10    M\n",
       "1     2     6    M\n",
       "2     6     2    F"
      ]
     },
     "execution_count": 28,
     "metadata": {},
     "output_type": "execute_result"
    }
   ],
   "source": [
    "demo.recode(df)"
   ]
  },
  {
   "cell_type": "code",
   "execution_count": 29,
   "metadata": {
    "ExecuteTime": {
     "end_time": "2017-11-16T21:41:29.112685Z",
     "start_time": "2017-11-16T21:41:29.054896Z"
    }
   },
   "outputs": [
    {
     "data": {
      "text/plain": [
       "True"
      ]
     },
     "execution_count": 29,
     "metadata": {},
     "output_type": "execute_result"
    }
   ],
   "source": [
    "demo.validate(df, recode=True)"
   ]
  },
  {
   "cell_type": "markdown",
   "metadata": {},
   "source": [
    "## Writing loading functions that accept enforcers\n",
    "\n",
    "Pass enforcers to your loading functions to get table type specific recoding and validation for all of your table types in a single function."
   ]
  },
  {
   "cell_type": "code",
   "execution_count": 22,
   "metadata": {
    "ExecuteTime": {
     "end_time": "2017-11-16T21:40:25.417677Z",
     "start_time": "2017-11-16T21:40:25.301409Z"
    }
   },
   "outputs": [],
   "source": [
    "def load_csv(path, enforcer):\n",
    "    df = pd.read_csv(path)\n",
    "    \n",
    "    recoded = enforcer.recode(df)\n",
    "    \n",
    "    if enforcer.validate(recoded):\n",
    "        return recoded\n",
    "    else:\n",
    "        raise e.ValidationError()\n",
    "    "
   ]
  },
  {
   "cell_type": "code",
   "execution_count": 31,
   "metadata": {
    "ExecuteTime": {
     "end_time": "2017-11-16T21:41:45.759845Z",
     "start_time": "2017-11-16T21:41:45.721173Z"
    }
   },
   "outputs": [
    {
     "data": {
      "text/html": [
       "<div>\n",
       "<style scoped>\n",
       "    .dataframe tbody tr th:only-of-type {\n",
       "        vertical-align: middle;\n",
       "    }\n",
       "\n",
       "    .dataframe tbody tr th {\n",
       "        vertical-align: top;\n",
       "    }\n",
       "\n",
       "    .dataframe thead th {\n",
       "        text-align: right;\n",
       "    }\n",
       "</style>\n",
       "<table border=\"1\" class=\"dataframe\">\n",
       "  <thead>\n",
       "    <tr style=\"text-align: right;\">\n",
       "      <th></th>\n",
       "      <th>col1</th>\n",
       "      <th>col2</th>\n",
       "      <th>col3</th>\n",
       "      <th>col4</th>\n",
       "    </tr>\n",
       "  </thead>\n",
       "  <tbody>\n",
       "    <tr>\n",
       "      <th>0</th>\n",
       "      <td>7</td>\n",
       "      <td>3</td>\n",
       "      <td>10</td>\n",
       "      <td>male</td>\n",
       "    </tr>\n",
       "    <tr>\n",
       "      <th>1</th>\n",
       "      <td>2</td>\n",
       "      <td>4</td>\n",
       "      <td>6</td>\n",
       "      <td>m</td>\n",
       "    </tr>\n",
       "    <tr>\n",
       "      <th>2</th>\n",
       "      <td>6</td>\n",
       "      <td>6</td>\n",
       "      <td>2</td>\n",
       "      <td>F</td>\n",
       "    </tr>\n",
       "  </tbody>\n",
       "</table>\n",
       "</div>"
      ],
      "text/plain": [
       "   col1  col2  col3  col4\n",
       "0     7     3    10  male\n",
       "1     2     4     6     m\n",
       "2     6     6     2     F"
      ]
     },
     "execution_count": 31,
     "metadata": {},
     "output_type": "execute_result"
    }
   ],
   "source": [
    "df"
   ]
  },
  {
   "cell_type": "code",
   "execution_count": 30,
   "metadata": {
    "ExecuteTime": {
     "end_time": "2017-11-16T21:41:37.738626Z",
     "start_time": "2017-11-16T21:41:37.668860Z"
    }
   },
   "outputs": [
    {
     "data": {
      "text/html": [
       "<div>\n",
       "<style scoped>\n",
       "    .dataframe tbody tr th:only-of-type {\n",
       "        vertical-align: middle;\n",
       "    }\n",
       "\n",
       "    .dataframe tbody tr th {\n",
       "        vertical-align: top;\n",
       "    }\n",
       "\n",
       "    .dataframe thead th {\n",
       "        text-align: right;\n",
       "    }\n",
       "</style>\n",
       "<table border=\"1\" class=\"dataframe\">\n",
       "  <thead>\n",
       "    <tr style=\"text-align: right;\">\n",
       "      <th></th>\n",
       "      <th>col1</th>\n",
       "      <th>col3</th>\n",
       "      <th>col4</th>\n",
       "    </tr>\n",
       "  </thead>\n",
       "  <tbody>\n",
       "    <tr>\n",
       "      <th>0</th>\n",
       "      <td>7</td>\n",
       "      <td>10</td>\n",
       "      <td>M</td>\n",
       "    </tr>\n",
       "    <tr>\n",
       "      <th>1</th>\n",
       "      <td>2</td>\n",
       "      <td>6</td>\n",
       "      <td>M</td>\n",
       "    </tr>\n",
       "    <tr>\n",
       "      <th>2</th>\n",
       "      <td>6</td>\n",
       "      <td>2</td>\n",
       "      <td>F</td>\n",
       "    </tr>\n",
       "  </tbody>\n",
       "</table>\n",
       "</div>"
      ],
      "text/plain": [
       "   col1  col3 col4\n",
       "0     7    10    M\n",
       "1     2     6    M\n",
       "2     6     2    F"
      ]
     },
     "execution_count": 30,
     "metadata": {},
     "output_type": "execute_result"
    }
   ],
   "source": [
    "df2 = load_csv(path=\"demo_table.csv\", enforcer=demo)\n",
    "df2"
   ]
  }
 ],
 "metadata": {
  "kernelspec": {
   "display_name": "table_enforcer",
   "language": "python",
   "name": "table_enforcer"
  },
  "language_info": {
   "codemirror_mode": {
    "name": "ipython",
    "version": 3
   },
   "file_extension": ".py",
   "mimetype": "text/x-python",
   "name": "python",
   "nbconvert_exporter": "python",
   "pygments_lexer": "ipython3",
   "version": "3.6.3"
  },
  "toc": {
   "nav_menu": {},
   "number_sections": true,
   "sideBar": true,
   "skip_h1_title": false,
   "toc_cell": false,
   "toc_position": {
    "height": "1111px",
    "left": "0px",
    "right": "2145px",
    "top": "207px",
    "width": "415px"
   },
   "toc_section_display": "block",
   "toc_window_display": true
  }
 },
 "nbformat": 4,
 "nbformat_minor": 2
}
